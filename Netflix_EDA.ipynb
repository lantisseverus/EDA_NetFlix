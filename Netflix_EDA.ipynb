{
  "nbformat": 4,
  "nbformat_minor": 0,
  "metadata": {
    "colab": {
      "provenance": [],
      "authorship_tag": "ABX9TyPkFasEY5aOh1PtKzDI/3qI",
      "include_colab_link": true
    },
    "kernelspec": {
      "name": "python3",
      "display_name": "Python 3"
    },
    "language_info": {
      "name": "python"
    }
  },
  "cells": [
    {
      "cell_type": "markdown",
      "metadata": {
        "id": "view-in-github",
        "colab_type": "text"
      },
      "source": [
        "<a href=\"https://colab.research.google.com/github/lantisseverus/EDA_NetFlix/blob/main/Netflix_EDA.ipynb\" target=\"_parent\"><img src=\"https://colab.research.google.com/assets/colab-badge.svg\" alt=\"Open In Colab\"/></a>"
      ]
    },
    {
      "cell_type": "markdown",
      "source": [
        "## Data Import and Environment Configuration"
      ],
      "metadata": {
        "id": "hAqcAw1n7DDz"
      }
    },
    {
      "cell_type": "code",
      "execution_count": 1,
      "metadata": {
        "colab": {
          "base_uri": "https://localhost:8080/"
        },
        "id": "azXYb3d14Wtd",
        "outputId": "b2ea6878-28df-4b72-bd41-208b99e93871"
      },
      "outputs": [
        {
          "output_type": "stream",
          "name": "stdout",
          "text": [
            "    show_id                                title                    director  \\\n",
            "0  81193313                            Chocolate                         NaN   \n",
            "1  81197050  Guatemala: Heart of the Mayan World  Luis Ara, Ignacio Jaunsolo   \n",
            "2  81213894                      The Zoya Factor             Abhishek Sharma   \n",
            "3  81082007                            Atlantics                   Mati Diop   \n",
            "4  80213643                      Chip and Potato                         NaN   \n",
            "\n",
            "                                                cast  \\\n",
            "0  Ha Ji-won, Yoon Kye-sang, Jang Seung-jo, Kang ...   \n",
            "1                                  Christian Morales   \n",
            "2  Sonam Kapoor, Dulquer Salmaan, Sanjay Kapoor, ...   \n",
            "3  Mama Sane, Amadou Mbow, Ibrahima Traore, Nicol...   \n",
            "4  Abigail Oliver, Andrea Libman, Briana Buckmast...   \n",
            "\n",
            "                    country         date_added  release_year rating  \\\n",
            "0               South Korea  November 30, 2019          2019  TV-14   \n",
            "1                       NaN  November 30, 2019          2019   TV-G   \n",
            "2                     India  November 30, 2019          2019  TV-14   \n",
            "3  France, Senegal, Belgium  November 29, 2019          2019  TV-14   \n",
            "4    Canada, United Kingdom                NaN          2019   TV-Y   \n",
            "\n",
            "    duration                                          listed_in  \\\n",
            "0   1 Season  International TV Shows, Korean TV Shows, Roman...   \n",
            "1     67 min                Documentaries, International Movies   \n",
            "2    135 min             Comedies, Dramas, International Movies   \n",
            "3    106 min   Dramas, Independent Movies, International Movies   \n",
            "4  2 Seasons                                           Kids' TV   \n",
            "\n",
            "                                         description     type  \n",
            "0  Brought together by meaningful meals in the pa...  TV Show  \n",
            "1  From Sierra de las Minas to Esquipulas, explor...    Movie  \n",
            "2  A goofy copywriter unwittingly convinces the I...    Movie  \n",
            "3  Arranged to marry a rich man, young Ada is cru...    Movie  \n",
            "4  Lovable pug Chip starts kindergarten, makes ne...  TV Show  \n"
          ]
        }
      ],
      "source": [
        "import numpy as np # linear algebra\n",
        "import pandas as pd # data processing, CSV file I/O (e.g. pd.read_csv)\n",
        "import matplotlib.pyplot as plt\n",
        "import seaborn as sns\n",
        "print(pd.read_csv('netflix_titles_nov_2019.csv').head())\n",
        "df = pd.read_csv('netflix_titles_nov_2019.csv')"
      ]
    },
    {
      "cell_type": "markdown",
      "source": [
        "## Data Investigation"
      ],
      "metadata": {
        "id": "Z0EVR_gV6_Er"
      }
    },
    {
      "cell_type": "code",
      "source": [
        "def data_inv(df):\n",
        "  print('Data rows: ', df.shape[0])\n",
        "  print('Data columns: ' ,df.shape[1])\n",
        "  print('-' * 10)\n",
        "  print('Column names: \\n')\n",
        "  print(df.columns)\n",
        "  print('-' * 10)\n",
        "  print('Data Type of each Column: \\n')\n",
        "  print(df.dtypes)\n",
        "  print('-'* 10)\n",
        "  print('Missing Values in each Column: \\n')\n",
        "  c = df.isnull().sum()\n",
        "  print(c[c>0])\n",
        "\n",
        "data_inv(df)"
      ],
      "metadata": {
        "colab": {
          "base_uri": "https://localhost:8080/"
        },
        "id": "VidCroNh5VX1",
        "outputId": "fcf7c150-2135-49de-d525-bba213ea1c1e"
      },
      "execution_count": 2,
      "outputs": [
        {
          "output_type": "stream",
          "name": "stdout",
          "text": [
            "Data rows:  5837\n",
            "Data columns:  12\n",
            "----------\n",
            "Column names: \n",
            "\n",
            "Index(['show_id', 'title', 'director', 'cast', 'country', 'date_added',\n",
            "       'release_year', 'rating', 'duration', 'listed_in', 'description',\n",
            "       'type'],\n",
            "      dtype='object')\n",
            "----------\n",
            "Data Type of each Column: \n",
            "\n",
            "show_id          int64\n",
            "title           object\n",
            "director        object\n",
            "cast            object\n",
            "country         object\n",
            "date_added      object\n",
            "release_year     int64\n",
            "rating          object\n",
            "duration        object\n",
            "listed_in       object\n",
            "description     object\n",
            "type            object\n",
            "dtype: object\n",
            "----------\n",
            "Missing Values in each Column: \n",
            "\n",
            "director      1901\n",
            "cast           556\n",
            "country        427\n",
            "date_added     642\n",
            "rating          10\n",
            "dtype: int64\n"
          ]
        }
      ]
    },
    {
      "cell_type": "markdown",
      "source": [
        "## Data Cleaning\n",
        "\n",
        "\n",
        "*   Drop ID column\n",
        "*   Remove Duplicate Shows\n",
        "*   Create New Column to count the number of cast of each show\n",
        "*   Missing Country can be replaced by 'Other' country\n",
        "*   Convert date_added data type from object to datetime\n",
        "*   Replace missing date_added with Jan, 1st, {release_year}\n",
        "*   Extract Month from {date_added} column\n",
        "\n",
        "\n",
        "\n",
        "\n",
        "\n",
        "\n"
      ],
      "metadata": {
        "id": "K3uvFk6T7sBW"
      }
    },
    {
      "cell_type": "code",
      "source": [
        "df = df.drop('show_id', axis = 1)"
      ],
      "metadata": {
        "id": "tHCXuRyZ9bq-"
      },
      "execution_count": 3,
      "outputs": []
    },
    {
      "cell_type": "code",
      "source": [
        "dups = df.duplicated(['title','country','type','release_year'])\n",
        "print(df[dups].head())\n",
        "df = df.drop_duplicates(['title','country','type','release_year'])"
      ],
      "metadata": {
        "colab": {
          "base_uri": "https://localhost:8080/"
        },
        "id": "-BJvOTde9vib",
        "outputId": "5421356c-a2be-478d-db75-2351d0d1708e"
      },
      "execution_count": 4,
      "outputs": [
        {
          "output_type": "stream",
          "name": "stdout",
          "text": [
            "          title         director  \\\n",
            "1134  Kakegurui              NaN   \n",
            "1741     Sarkar  A.R. Murugadoss   \n",
            "\n",
            "                                                   cast country  \\\n",
            "1134  Saori Hayami, Minami Tanaka, Tatsuya Tokutake,...   Japan   \n",
            "1741  Vijay, Varalakshmi Sarathkumar, Keerthi Suresh...   India   \n",
            "\n",
            "         date_added  release_year rating   duration  \\\n",
            "1134            NaN          2019  TV-14  2 Seasons   \n",
            "1741  March 2, 2019          2018  TV-MA    162 min   \n",
            "\n",
            "                                              listed_in  \\\n",
            "1134  Anime Series, International TV Shows, TV Thril...   \n",
            "1741   Action & Adventure, Dramas, International Movies   \n",
            "\n",
            "                                            description     type  \n",
            "1134  High roller Yumeko Jabami plans to clean house...  TV Show  \n",
            "1741  A ruthless businessman’s mission to expose ele...    Movie  \n"
          ]
        }
      ]
    },
    {
      "cell_type": "markdown",
      "source": [
        "Before count the cast number, we should filter out the NaN value in the cast and replace it with \"Unknown\". I will also replace the director name with \"Unknown\"."
      ],
      "metadata": {
        "id": "VppRTS2o-hBB"
      }
    },
    {
      "cell_type": "code",
      "source": [
        "df['cast']=df['cast'].replace(np.nan,'Unknown')\n",
        "df['director'] = df['director'].replace(np.nan, 'Unknown')"
      ],
      "metadata": {
        "id": "yBZziI1M-RIw"
      },
      "execution_count": 5,
      "outputs": []
    },
    {
      "cell_type": "code",
      "source": [
        "def cast_counter(cast):\n",
        "    if cast=='Unknown':\n",
        "        return 0\n",
        "    else:\n",
        "        lst=cast.split(', ')\n",
        "        length=len(lst)\n",
        "        return length\n",
        "df['number of cast']=df['cast'].apply(cast_counter)\n",
        "print(df.head())"
      ],
      "metadata": {
        "colab": {
          "base_uri": "https://localhost:8080/"
        },
        "id": "ipPMH73-ATGd",
        "outputId": "407b64f6-c34e-4d5e-c9d1-555f2440201e"
      },
      "execution_count": 6,
      "outputs": [
        {
          "output_type": "stream",
          "name": "stdout",
          "text": [
            "                                 title                    director  \\\n",
            "0                            Chocolate                     Unknown   \n",
            "1  Guatemala: Heart of the Mayan World  Luis Ara, Ignacio Jaunsolo   \n",
            "2                      The Zoya Factor             Abhishek Sharma   \n",
            "3                            Atlantics                   Mati Diop   \n",
            "4                      Chip and Potato                     Unknown   \n",
            "\n",
            "                                                cast  \\\n",
            "0  Ha Ji-won, Yoon Kye-sang, Jang Seung-jo, Kang ...   \n",
            "1                                  Christian Morales   \n",
            "2  Sonam Kapoor, Dulquer Salmaan, Sanjay Kapoor, ...   \n",
            "3  Mama Sane, Amadou Mbow, Ibrahima Traore, Nicol...   \n",
            "4  Abigail Oliver, Andrea Libman, Briana Buckmast...   \n",
            "\n",
            "                    country         date_added  release_year rating  \\\n",
            "0               South Korea  November 30, 2019          2019  TV-14   \n",
            "1                       NaN  November 30, 2019          2019   TV-G   \n",
            "2                     India  November 30, 2019          2019  TV-14   \n",
            "3  France, Senegal, Belgium  November 29, 2019          2019  TV-14   \n",
            "4    Canada, United Kingdom                NaN          2019   TV-Y   \n",
            "\n",
            "    duration                                          listed_in  \\\n",
            "0   1 Season  International TV Shows, Korean TV Shows, Roman...   \n",
            "1     67 min                Documentaries, International Movies   \n",
            "2    135 min             Comedies, Dramas, International Movies   \n",
            "3    106 min   Dramas, Independent Movies, International Movies   \n",
            "4  2 Seasons                                           Kids' TV   \n",
            "\n",
            "                                         description     type  number of cast  \n",
            "0  Brought together by meaningful meals in the pa...  TV Show               8  \n",
            "1  From Sierra de las Minas to Esquipulas, explor...    Movie               1  \n",
            "2  A goofy copywriter unwittingly convinces the I...    Movie               8  \n",
            "3  Arranged to marry a rich man, young Ada is cru...    Movie               9  \n",
            "4  Lovable pug Chip starts kindergarten, makes ne...  TV Show              10  \n"
          ]
        }
      ]
    },
    {
      "cell_type": "code",
      "source": [
        "df['country'] = df['country'].replace(np.nan, \"Other\")"
      ],
      "metadata": {
        "id": "AbZU3QAlAwuu"
      },
      "execution_count": 7,
      "outputs": []
    },
    {
      "cell_type": "code",
      "source": [
        "df['date_added']= df['date_added'].fillna('January 1, {}'.format(str(df['release_year'].mode()[0])))\n",
        "df['date_added'] = df['date_added'].astype('datetime64[ns]')\n",
        "import datetime as dt\n",
        "df['date_added_month'] = df['date_added'].dt.month\n",
        "print(df.head())"
      ],
      "metadata": {
        "colab": {
          "base_uri": "https://localhost:8080/"
        },
        "id": "F4CdGVzZCDMk",
        "outputId": "2ead6492-e8ea-48c0-ca88-f6c3775b3e04"
      },
      "execution_count": 8,
      "outputs": [
        {
          "output_type": "stream",
          "name": "stdout",
          "text": [
            "                                 title                    director  \\\n",
            "0                            Chocolate                     Unknown   \n",
            "1  Guatemala: Heart of the Mayan World  Luis Ara, Ignacio Jaunsolo   \n",
            "2                      The Zoya Factor             Abhishek Sharma   \n",
            "3                            Atlantics                   Mati Diop   \n",
            "4                      Chip and Potato                     Unknown   \n",
            "\n",
            "                                                cast  \\\n",
            "0  Ha Ji-won, Yoon Kye-sang, Jang Seung-jo, Kang ...   \n",
            "1                                  Christian Morales   \n",
            "2  Sonam Kapoor, Dulquer Salmaan, Sanjay Kapoor, ...   \n",
            "3  Mama Sane, Amadou Mbow, Ibrahima Traore, Nicol...   \n",
            "4  Abigail Oliver, Andrea Libman, Briana Buckmast...   \n",
            "\n",
            "                    country date_added  release_year rating   duration  \\\n",
            "0               South Korea 2019-11-30          2019  TV-14   1 Season   \n",
            "1                     Other 2019-11-30          2019   TV-G     67 min   \n",
            "2                     India 2019-11-30          2019  TV-14    135 min   \n",
            "3  France, Senegal, Belgium 2019-11-29          2019  TV-14    106 min   \n",
            "4    Canada, United Kingdom 2018-01-01          2019   TV-Y  2 Seasons   \n",
            "\n",
            "                                           listed_in  \\\n",
            "0  International TV Shows, Korean TV Shows, Roman...   \n",
            "1                Documentaries, International Movies   \n",
            "2             Comedies, Dramas, International Movies   \n",
            "3   Dramas, Independent Movies, International Movies   \n",
            "4                                           Kids' TV   \n",
            "\n",
            "                                         description     type  number of cast  \\\n",
            "0  Brought together by meaningful meals in the pa...  TV Show               8   \n",
            "1  From Sierra de las Minas to Esquipulas, explor...    Movie               1   \n",
            "2  A goofy copywriter unwittingly convinces the I...    Movie               8   \n",
            "3  Arranged to marry a rich man, young Ada is cru...    Movie               9   \n",
            "4  Lovable pug Chip starts kindergarten, makes ne...  TV Show              10   \n",
            "\n",
            "   date_added_month  \n",
            "0                11  \n",
            "1                11  \n",
            "2                11  \n",
            "3                11  \n",
            "4                 1  \n"
          ]
        }
      ]
    },
    {
      "cell_type": "markdown",
      "source": [
        "## Exploratory Data Analysis\n",
        "\n",
        "\n",
        "* Extract the numeric digits from the Movie and TV shows\n",
        "*   Separate Movie and TV shows and understand their duration distribution\n",
        "*   See if the number of release of shows/movie is increasing or decreasing with the year proceeds\n",
        "* Understanding what content is available in different countries\n",
        "* Understand the different trend of Movie and TV shows in years\n",
        "* The most observed rating categories in TV-shows and Movies\n",
        "* The cast number differs among the country\n",
        "* How many content its release year differ from its year added\n",
        "* The duration of Movie and TV shows fluctuation with the years added\n",
        "* The duration of Movie and TV shows fluctuation with the years added(Movie was calculated by Minutes while TV shows were estimated by its Seasons)"
      ],
      "metadata": {
        "id": "uJpNPSdbLDOz"
      }
    },
    {
      "cell_type": "code",
      "source": [
        "movie_df = df[df[\"type\"].str.contains(\"Movie\")]\n",
        "movie_df[\"length(min)\"] = [int(val.split(' ')[0]) for val in movie_df['duration']]\n",
        "# lengths = []\n",
        "# for val in movie_df['duration']:\n",
        "#   length = int(val.split(' ')[0])\n",
        "#   lengths.append(length)\n",
        "print(movie_df[\"length(min)\"].describe())\n"
      ],
      "metadata": {
        "colab": {
          "base_uri": "https://localhost:8080/"
        },
        "id": "2hVjUoydFupD",
        "outputId": "e9b5983c-7bdc-42a6-94f4-ef47d995421c"
      },
      "execution_count": 9,
      "outputs": [
        {
          "output_type": "stream",
          "name": "stdout",
          "text": [
            "count    3938.000000\n",
            "mean       98.012951\n",
            "std        27.703858\n",
            "min         3.000000\n",
            "25%        85.000000\n",
            "50%        97.000000\n",
            "75%       113.000000\n",
            "max       312.000000\n",
            "Name: length(min), dtype: float64\n"
          ]
        },
        {
          "output_type": "stream",
          "name": "stderr",
          "text": [
            "<ipython-input-9-a62150a9cad9>:2: SettingWithCopyWarning: \n",
            "A value is trying to be set on a copy of a slice from a DataFrame.\n",
            "Try using .loc[row_indexer,col_indexer] = value instead\n",
            "\n",
            "See the caveats in the documentation: https://pandas.pydata.org/pandas-docs/stable/user_guide/indexing.html#returning-a-view-versus-a-copy\n",
            "  movie_df[\"length(min)\"] = [int(val.split(' ')[0]) for val in movie_df['duration']]\n"
          ]
        }
      ]
    },
    {
      "cell_type": "code",
      "source": [
        "tvshow_df = df[df[\"type\"].str.contains(\"TV Show\")]\n",
        "tvshow_df[\"length(season)\"] = [int(val.split(' ')[0]) for val in tvshow_df['duration']]\n",
        "print(tvshow_df[\"length(season)\"].describe())"
      ],
      "metadata": {
        "colab": {
          "base_uri": "https://localhost:8080/"
        },
        "id": "FoRq9yXLW3iB",
        "outputId": "af2874bb-c72a-4bce-8426-afe6626dbfe1"
      },
      "execution_count": 10,
      "outputs": [
        {
          "output_type": "stream",
          "name": "stdout",
          "text": [
            "count    1897.000000\n",
            "mean        1.800211\n",
            "std         1.645426\n",
            "min         1.000000\n",
            "25%         1.000000\n",
            "50%         1.000000\n",
            "75%         2.000000\n",
            "max        15.000000\n",
            "Name: length(season), dtype: float64\n"
          ]
        },
        {
          "output_type": "stream",
          "name": "stderr",
          "text": [
            "<ipython-input-10-1eb6f7cd6689>:2: SettingWithCopyWarning: \n",
            "A value is trying to be set on a copy of a slice from a DataFrame.\n",
            "Try using .loc[row_indexer,col_indexer] = value instead\n",
            "\n",
            "See the caveats in the documentation: https://pandas.pydata.org/pandas-docs/stable/user_guide/indexing.html#returning-a-view-versus-a-copy\n",
            "  tvshow_df[\"length(season)\"] = [int(val.split(' ')[0]) for val in tvshow_df['duration']]\n"
          ]
        }
      ]
    },
    {
      "cell_type": "code",
      "source": [
        "df.groupby(\"type\")[\"country\"].value_counts().sort_values(ascending = False)\n"
      ],
      "metadata": {
        "colab": {
          "base_uri": "https://localhost:8080/"
        },
        "id": "k_QEQuXlYW-M",
        "outputId": "28a7f08b-6850-4865-c756-b04f1c8287ff"
      },
      "execution_count": 11,
      "outputs": [
        {
          "output_type": "execute_result",
          "data": {
            "text/plain": [
              "type     country                              \n",
              "Movie    United States                            1375\n",
              "         India                                     644\n",
              "TV Show  United States                             532\n",
              "         Other                                     257\n",
              "         United Kingdom                            174\n",
              "                                                  ... \n",
              "Movie    Italy, Turkey                               1\n",
              "         Italy, Switzerland, France, Germany         1\n",
              "         Italy, Switzerland, Albania, Poland         1\n",
              "         Italy, India                                1\n",
              "TV Show  United States, United Kingdom, Canada       1\n",
              "Name: country, Length: 609, dtype: int64"
            ]
          },
          "metadata": {},
          "execution_count": 11
        }
      ]
    },
    {
      "cell_type": "markdown",
      "source": [
        "The United States still dominates the number of content added to Netflix (both in TV shows and Movies)."
      ],
      "metadata": {
        "id": "k74c63XemhLl"
      }
    },
    {
      "cell_type": "code",
      "source": [
        "df[\"year_added\"] = df[\"date_added\"].dt.year\n",
        "df.groupby([\"type\", \"year_added\"]).count()\n",
        "count_df = df.groupby([\"type\", \"year_added\"])[\"title\"].count().reset_index(name=\"count\")\n",
        "#df[\"type_year_count\"] = df[\"type\"].map(df[\"year_added\"].value_counts())\n",
        "#print(df[\"type_year_count\"])"
      ],
      "metadata": {
        "id": "YHRLj2rVhRmW"
      },
      "execution_count": 12,
      "outputs": []
    },
    {
      "cell_type": "code",
      "source": [
        "sns.lineplot(data=count_df, x=\"year_added\", y=\"count\", hue= \"type\")"
      ],
      "metadata": {
        "colab": {
          "base_uri": "https://localhost:8080/",
          "height": 468
        },
        "id": "4SHd-aj3m6-t",
        "outputId": "cd4e6609-56a4-434c-a929-fa144d6c9214"
      },
      "execution_count": 13,
      "outputs": [
        {
          "output_type": "execute_result",
          "data": {
            "text/plain": [
              "<Axes: xlabel='year_added', ylabel='count'>"
            ]
          },
          "metadata": {},
          "execution_count": 13
        },
        {
          "output_type": "display_data",
          "data": {
            "text/plain": [
              "<Figure size 640x480 with 1 Axes>"
            ],
            "image/png": "[encoded data removed]"
          },
          "metadata": {}
        }
      ]
    },
    {
      "cell_type": "markdown",
      "source": [
        "We can tell from the line plot that there's a peak in 2018 for TV shows, while Movie keeps soaring even after 2019."
      ],
      "metadata": {
        "id": "kZkkDgGIyyyv"
      }
    },
    {
      "cell_type": "code",
      "source": [
        "df[\"rating\"].value_counts().sort_values(ascending= False)"
      ],
      "metadata": {
        "colab": {
          "base_uri": "https://localhost:8080/"
        },
        "id": "VlYNGdc0huHj",
        "outputId": "9f987889-0481-4a13-f88c-20315d25b96c"
      },
      "execution_count": 14,
      "outputs": [
        {
          "output_type": "execute_result",
          "data": {
            "text/plain": [
              "TV-MA       1936\n",
              "TV-14       1592\n",
              "TV-PG        678\n",
              "R            439\n",
              "PG-13        227\n",
              "NR           218\n",
              "PG           160\n",
              "TV-Y7        156\n",
              "TV-G         147\n",
              "TV-Y         139\n",
              "TV-Y7-FV      92\n",
              "G             32\n",
              "UR             7\n",
              "NC-17          2\n",
              "Name: rating, dtype: int64"
            ]
          },
          "metadata": {},
          "execution_count": 14
        }
      ]
    },
    {
      "cell_type": "markdown",
      "source": [
        "We can tell from the exploratory data analysis result that the most frequent rating of Netflix content are \"TV-MA\" and \"TV-14\".\n",
        "\n",
        "\n",
        "\n",
        "*   TV-MA:This program is specifically designed to be viewed by adults and therefore may be unsuitable for children under 17.\n",
        "*   TV-14:This program contains some material that many parents would find unsuitable for children under 14 years of age.\n",
        "\n",
        "This data result indicates that Netflix content target audience are mostly above 14-17 year-old teenagers."
      ],
      "metadata": {
        "id": "PcAekO-eiTMa"
      }
    },
    {
      "cell_type": "code",
      "source": [
        "df.groupby(\"country\")[\"number of cast\"].sum().sort_values(ascending=False)"
      ],
      "metadata": {
        "colab": {
          "base_uri": "https://localhost:8080/"
        },
        "id": "6A2euoLzjJtW",
        "outputId": "489ffe5e-9620-49f9-e404-864a90165cf9"
      },
      "execution_count": 15,
      "outputs": [
        {
          "output_type": "execute_result",
          "data": {
            "text/plain": [
              "country\n",
              "United States                            12850\n",
              "India                                     5114\n",
              "Other                                     2041\n",
              "Japan                                     1853\n",
              "United Kingdom                            1625\n",
              "                                         ...  \n",
              "United Kingdom, Belgium, Sweden              0\n",
              "United Kingdom,                              0\n",
              "Canada, United Kingdom, Netherlands          0\n",
              "France, United Kingdom, United States        0\n",
              "West Germany                                 0\n",
              "Name: number of cast, Length: 528, dtype: int64"
            ]
          },
          "metadata": {},
          "execution_count": 15
        }
      ]
    },
    {
      "cell_type": "markdown",
      "source": [
        "From the aggregation result, we can tell that the United States has the most cast included in the contents, and the following are India, Other, Japan, and the United Kingdom."
      ],
      "metadata": {
        "id": "VlEo7FXQnIyx"
      }
    },
    {
      "cell_type": "code",
      "source": [
        "df[\"year_diff\"] =  df[\"year_added\"] - df[\"release_year\"]\n",
        "print((df[df[\"year_diff\"] != 0].value_counts().sum())/ (df.shape[0]) * 100)"
      ],
      "metadata": {
        "colab": {
          "base_uri": "https://localhost:8080/"
        },
        "id": "_449p2BXkA7-",
        "outputId": "74e9d7d1-e4e0-4239-8a96-f7086ea05f1a"
      },
      "execution_count": 16,
      "outputs": [
        {
          "output_type": "stream",
          "name": "stdout",
          "text": [
            "67.95201371036846\n"
          ]
        }
      ]
    },
    {
      "cell_type": "markdown",
      "source": [
        "The proportion of different release year and year added is around 67.95%."
      ],
      "metadata": {
        "id": "Z-1he85foVb6"
      }
    },
    {
      "cell_type": "code",
      "source": [
        "sns.boxplot(x = df[\"year_diff\"])\n",
        "plt.title(\"Distribution of year difference between year added to Netflix and release year\")\n",
        "plt.xlabel(\"Year Difference\")\n",
        "plt.show()\n",
        "print(df[\"year_diff\"].describe())\n",
        "print(df[df[\"year_diff\"] <0][[\"title\", \"release_year\", \"year_added\"]])"
      ],
      "metadata": {
        "colab": {
          "base_uri": "https://localhost:8080/",
          "height": 883
        },
        "id": "ZgkxIkL3okoQ",
        "outputId": "88ce1e65-a98f-4598-d141-805db2636d6c"
      },
      "execution_count": 23,
      "outputs": [
        {
          "output_type": "display_data",
          "data": {
            "text/plain": [
              "<Figure size 640x480 with 1 Axes>"
            ],
            "image/png": "[encoded data removed]"
          },
          "metadata": {}
        },
        {
          "output_type": "stream",
          "name": "stdout",
          "text": [
            "count    5835.000000\n",
            "mean        4.195201\n",
            "std         8.397445\n",
            "min        -3.000000\n",
            "25%         0.000000\n",
            "50%         1.000000\n",
            "75%         4.000000\n",
            "max        93.000000\n",
            "Name: year_diff, dtype: float64\n",
            "                           title  release_year  year_added\n",
            "4                Chip and Potato          2019        2018\n",
            "8               La Reina del Sur          2019        2018\n",
            "49                     High Seas          2019        2018\n",
            "51           Nailed It! Holiday!          2019        2018\n",
            "56             The Dragon Prince          2019        2018\n",
            "...                          ...           ...         ...\n",
            "3263   Unbreakable Kimmy Schmidt          2019        2018\n",
            "3264        Arrested Development          2019        2018\n",
            "4575  Hans Teeuwen: Real Rancour          2018        2017\n",
            "5274                 Tokyo Trial          2017        2016\n",
            "5811                 Jack Taylor          2016        2013\n",
            "\n",
            "[177 rows x 3 columns]\n"
          ]
        }
      ]
    },
    {
      "cell_type": "markdown",
      "source": [
        "There are 177 pieces of content added to Netflix earlier than the release year. What does this mean? It could be some of the movies on Netflix that are added to Netflix first and then released to the movie theater(e.g., *\"Red Notice\"*)"
      ],
      "metadata": {
        "id": "U3iqzVwYtOJ6"
      }
    },
    {
      "cell_type": "code",
      "source": [
        "movie_df[\"year_added\"] = movie_df[\"date_added\"].dt.year\n",
        "sns.lineplot(data=movie_df, x=\"year_added\", y=\"length(min)\", errorbar= None)\n",
        "plt.title(\"Duration Fluctuation of Movie with Years Added to Netflix\")\n",
        "plt.xlabel(\"Year Added to Netflix\")\n",
        "plt.ylabel(\"Duration in Minutes\")\n",
        "plt.show()"
      ],
      "metadata": {
        "colab": {
          "base_uri": "https://localhost:8080/",
          "height": 599
        },
        "id": "E_skCDkpBI7y",
        "outputId": "d572c82f-46d7-4457-fb29-bb13fa5363a3"
      },
      "execution_count": 24,
      "outputs": [
        {
          "output_type": "stream",
          "name": "stderr",
          "text": [
            "<ipython-input-24-55d8a2dd95c7>:1: SettingWithCopyWarning: \n",
            "A value is trying to be set on a copy of a slice from a DataFrame.\n",
            "Try using .loc[row_indexer,col_indexer] = value instead\n",
            "\n",
            "See the caveats in the documentation: https://pandas.pydata.org/pandas-docs/stable/user_guide/indexing.html#returning-a-view-versus-a-copy\n",
            "  movie_df[\"year_added\"] = movie_df[\"date_added\"].dt.year\n"
          ]
        },
        {
          "output_type": "display_data",
          "data": {
            "text/plain": [
              "<Figure size 640x480 with 1 Axes>"
            ],
            "image/png": "[encoded data removed]"
          },
          "metadata": {}
        }
      ]
    },
    {
      "cell_type": "markdown",
      "source": [
        "We can tell from the line plot that there seems to be a trend from 2014 to 2018 that the duration of Movie keeps increasing."
      ],
      "metadata": {
        "id": "9iSQTUOfDZSS"
      }
    },
    {
      "cell_type": "code",
      "source": [
        "tvshow_df[\"year_added\"] = tvshow_df[\"date_added\"].dt.year\n",
        "sns.lineplot(data=tvshow_df, x=\"year_added\", y=\"length(season)\", errorbar= None)"
      ],
      "metadata": {
        "colab": {
          "base_uri": "https://localhost:8080/",
          "height": 595
        },
        "id": "tU4Qdl_fCJYY",
        "outputId": "0f9af507-558f-493a-eac8-08e698c3ce84"
      },
      "execution_count": 21,
      "outputs": [
        {
          "output_type": "stream",
          "name": "stderr",
          "text": [
            "<ipython-input-21-d17afa2f5dea>:1: SettingWithCopyWarning: \n",
            "A value is trying to be set on a copy of a slice from a DataFrame.\n",
            "Try using .loc[row_indexer,col_indexer] = value instead\n",
            "\n",
            "See the caveats in the documentation: https://pandas.pydata.org/pandas-docs/stable/user_guide/indexing.html#returning-a-view-versus-a-copy\n",
            "  tvshow_df[\"year_added\"] = tvshow_df[\"date_added\"].dt.year\n"
          ]
        },
        {
          "output_type": "execute_result",
          "data": {
            "text/plain": [
              "<Axes: xlabel='year_added', ylabel='length(season)'>"
            ]
          },
          "metadata": {},
          "execution_count": 21
        },
        {
          "output_type": "display_data",
          "data": {
            "text/plain": [
              "<Figure size 640x480 with 1 Axes>"
            ],
            "image/png": "[encoded data removed]"
          },
          "metadata": {}
        }
      ]
    },
    {
      "cell_type": "markdown",
      "source": [
        "As for TV shows, most of the TV shows are of 1 season length, it was not until 2018 that the seasons of TV shows became more varied."
      ],
      "metadata": {
        "id": "G8jcgx8GDoGA"
      }
    },
    {
      "cell_type": "markdown",
      "source": [
        "## Result & Limitation\n",
        "\n",
        "It seems that most of the valid data reside between 2016-2019, and 2016 - 2019 was the years when Netflix expanded and gained more subscribers (See Reference from [demandsage](https://www.demandsage.com/netflix-subscribers/)).\n",
        "\n",
        "\n",
        "\n",
        "\n",
        "The data analysis has some limitations on the contents which were\n",
        "1.   aired in multiple countries, and this requires advanced text-extracting skills on the entries with multiple country names in one cell.\n",
        "\n",
        "2.   limited to 2016 to 2019, when the period is too short to be representative.\n",
        "\n",
        "\n",
        "Had had more information like the content genre, subscribers over years, views data, more insightful data analysis and statistics hypothesis could have been applied to this dataset."
      ],
      "metadata": {
        "id": "qrg1AYQ6D9hn"
      }
    }
  ]
}